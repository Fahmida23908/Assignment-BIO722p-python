{
 "cells": [
  {
   "cell_type": "markdown",
   "metadata": {},
   "source": [
    "# Bio722P Coding for Bioscientists Final Assignment, 2022/23"
   ]
  },
  {
   "cell_type": "markdown",
   "metadata": {},
   "source": [
    "This assignment counts towards 100% of the marks for this module. The assignment is divided into four questions, each carrying 25 marks."
   ]
  },
  {
   "cell_type": "markdown",
   "metadata": {},
   "source": [
    "## Student name and number\n",
    "Enter your full name and student number in the cell below"
   ]
  },
  {
   "cell_type": "markdown",
   "metadata": {},
   "source": [
    "Full name: Fahmida Tanzeem\n",
    "\n",
    "student number: 150427049"
   ]
  },
  {
   "cell_type": "markdown",
   "metadata": {},
   "source": [
    "\n",
    "## Deadline and submission\n",
    "\n",
    "Complete this notebook with your code, compress it and submit it as a single .zip or .gz file through the QMPlus page by the following deadline:\n",
    "\n",
    "    Friday Nov 3rd 2023, 16:00\n",
    "\n",
    "\n",
    "## Submission checklist\n",
    "\n",
    "* Notebook is written in Python 3 and can be opened and run on the EECS/SBCS JupyterHub.\n",
    "* Any import statements are grouped in the cell provided at the end of this introduction; name and version of the library are given in a comment. There should be no other import statements in the notebook.\n",
    "* Notebook functions pass all tests when cells are run with a fresh kernel from top to bottom.\n",
    "* Notebook only contains well commented answer code and the original tests. Please remove your own test code.\n",
    "* Notebook includes the full name and student number of the author.\n",
    "* Zip file containing the notebook is free from errors.\n",
    "\n",
    "Please refrain from editing the text of the assignment and the test code provided. Feel free to insert text or code cells as needed, but please clean up rough work that you do not wish to be marked.\n",
    "\n",
    "## Marking\n",
    "\n",
    "Your work will be marked **automatically**. Marks will be based on:\n",
    "\n",
    "        completeness and correctness: 100%\n",
    "        \n",
    "For automatic marking to function appropriately, each of your answers **must** pass the tests provided when running the notebook from top to bottom on a fresh kernel. Code that does not pass the tests or is not run (directly or indirectly, e.g. a function calling another function) by the functions you are asked to implement will **not** be marked.\n",
    "\n",
    "The test code provided with each question does **not** ensure that your submission is correct; it only ensures that it can be marked automatically. You will need to test your code independently for correctness; however, please remove your test code from your final submission, and do not submit any test data; the marking script will test your code with its own choice of data.\n",
    "\n",
    "## How to answer questions\n",
    "\n",
    "This assignment contains four questions, that can in principle be tackled in any order. However, we suggest that you answer Question 3 before attempting Question 4.\n",
    "\n",
    "Each question will require you to code a few functions. As you progress through the subquestions, you may have to rely on your answer to previous subquestions to perform some operations. Please call the relevant functions and avoid duplicating code.  \n",
    "\n",
    "\n",
    "## Use of libraries\n",
    "\n",
    "This assignment is designed to be feasible using only the functions in the Python standard library, and we recommend that you do not use anything else. However, you are free to use any library available in PyPI if you think that would make your work easier. If you do decide to use any additional libraries, these must be installable from PyPI using *pip*. Specify in the cell below all necessary import statements; for functions that are not part of the standard library, include the name and version of the library in a comment."
   ]
  },
  {
   "cell_type": "code",
   "execution_count": null,
   "metadata": {},
   "outputs": [],
   "source": [
    "# Please put all your import statements here, according to the example. Include a comment with the name of \n",
    "# the library and its version. Do not include import statements in the rest of the code\n",
    "\n",
    "#import math"
   ]
  },
  {
   "cell_type": "markdown",
   "metadata": {},
   "source": [
    "## Preliminary reading\n",
    "\n",
    "Please read the PDF file ```BIO723P_Assignment_Background.pdf``` distributed with this assigment carefully before you start coding."
   ]
  },
  {
   "cell_type": "markdown",
   "metadata": {},
   "source": [
    "# Question 1: Primers and melting temperature"
   ]
  },
  {
   "cell_type": "markdown",
   "metadata": {},
   "source": [
    "### Question 1.a: Reading a DNA sequence from a file\n",
    "\n",
    "Write a python function called ```readDNAsequence``` that takes as its argument the name of a file.  When passed the name of a FASTA file, the function should read the file, discard the header and return the sequence as a string. Your code should raise ```BadSequenceException``` (defined below) if the sequence part of the file contains characters that are not one of the letters A, C, T, G, U. All U nucleotides should be replaced by T in the returned string (for simplicity, we will be working with T only throughout the rest of this assignment)."
   ]
  },
  {
   "cell_type": "code",
   "execution_count": null,
   "metadata": {},
   "outputs": [],
   "source": [
    "# Run this cell to define the exception\n",
    "class BadSequenceException(Exception):\n",
    "    pass"
   ]
  },
  {
   "cell_type": "code",
   "execution_count": 40,
   "metadata": {
    "tags": []
   },
   "outputs": [],
   "source": [
    "# Your code here\n",
    "class BadSequenceException(Exception):\n",
    "    pass\n",
    "\n",
    "def readDNAsequence(filename):\n",
    "    # Open and read the file\n",
    "    with open(filename, 'r') as f:\n",
    "        lines = f.readlines()\n",
    "\n",
    "    # Sequence lines are extracted (excluding the header)\n",
    "    sequence_lines = lines[1:]\n",
    "\n",
    "    # The lines are joined into a single string and newlines are removed\n",
    "    sequence = ''.join(sequence_lines).replace('\\n', '')\n",
    "\n",
    "    # Invalid characters are checked \n",
    "    for char in sequence:\n",
    "        if char not in 'ACTGU':\n",
    "            raise BadSequenceException(\"Invalid character found\")\n",
    "\n",
    "    # 'U' is replaced with 'T'\n",
    "    sequence = sequence.replace('U', 'T')\n",
    "\n",
    "    return sequence\n",
    "\n",
    "\n"
   ]
  },
  {
   "cell_type": "code",
   "execution_count": 41,
   "metadata": {
    "tags": []
   },
   "outputs": [
    {
     "name": "stdout",
     "output_type": "stream",
     "text": [
      "OK\n"
     ]
    }
   ],
   "source": [
    "# Test code\n",
    "import os\n",
    "with open(\"test9876345.fas\", \"wt\") as _OUTF:\n",
    "    _OUTF.write(\"> test\\n\")\n",
    "    _OUTF.write(\"ACTG\\n\")\n",
    "_seq=readDNAsequence(\"test9876345.fas\")\n",
    "assert type(_seq) is type(\"\"), \"Return value is not a string: %r\" % _seq\n",
    "os.remove(\"test9876345.fas\")\n",
    "print(\"OK\")"
   ]
  },
  {
   "cell_type": "markdown",
   "metadata": {},
   "source": [
    "### Question 1.b: Computing the complement of a sequence"
   ]
  },
  {
   "cell_type": "markdown",
   "metadata": {},
   "source": [
    "Write a function called ```complement``` that takes a string containing a DNA sequence as its only  parameter and returns the complement of the sequence in a string. The function should raise ```BadSequenceException``` if the argument sequence contains anything else than the four characters A, C, T, G. Do not reverse the string; for the avoidance of doubt, if the input string starts with A then the complement string should start with T.\n"
   ]
  },
  {
   "cell_type": "code",
   "execution_count": 3,
   "metadata": {
    "tags": []
   },
   "outputs": [],
   "source": [
    "# Your code here\n",
    "\n",
    "# The exception for bad sequences is defined\n",
    "class BadSequenceException(Exception):\n",
    "    pass\n",
    "\n",
    "# The function calculates the complement of the DNA sequence\n",
    "def complement(dna_sequence):\n",
    "    complement_dict = {'A': 'T', 'T': 'A', 'C': 'G', 'G': 'C'}\n",
    "    complement_sequence = ''\n",
    "\n",
    "    # Invalid characters are checked\n",
    "    for char in dna_sequence:\n",
    "        if char not in \"ACTG\":\n",
    "            raise BadSequenceException(\"Invalid character in sequence\")\n",
    "        complement_sequence += complement_dict[char]\n",
    "\n",
    "    return complement_sequence\n"
   ]
  },
  {
   "cell_type": "code",
   "execution_count": 42,
   "metadata": {
    "tags": []
   },
   "outputs": [
    {
     "name": "stdout",
     "output_type": "stream",
     "text": [
      "OK\n"
     ]
    }
   ],
   "source": [
    "# Test code\n",
    "_seq=complement(\"ACGTTTCG\")\n",
    "assert type(_seq) is type(\"\"), \"Return value is not a string: %r\" % _seq\n",
    "print(\"OK\")"
   ]
  },
  {
   "cell_type": "markdown",
   "metadata": {},
   "source": [
    "### Question 1.c: Extracting primers"
   ]
  },
  {
   "cell_type": "markdown",
   "metadata": {},
   "source": [
    "Write a function called ```primer``` that takes three parameters: a DNA sequence called ```sequence```, an integer ```length``` that is 20 by default and a Boolean value ```forward``` that is ```True``` by default. When ```forward``` is ```True``` (or is not passed), the function should return a Forward primer for the sequence passed as ```sequence```; when it is ```False```, it should return a  Reverse primer. The length of the primer is specified by ```length```; if this is not passed, a primer of length 20 should be returned.  Refer to the Background document for a definition of primers and how to compute them (for the avoidance of doubt, if the sequence string ends with a C, then the reverse primer string should start with a G). If the sequence is shorter than ```length``` nucleotides, your code should raise a ```BadSequenceException```.\n"
   ]
  },
  {
   "cell_type": "code",
   "execution_count": 43,
   "metadata": {
    "tags": []
   },
   "outputs": [],
   "source": [
    "# Your code here\n",
    "# The exception for bad sequences is defined\n",
    "class BadSequenceException(Exception):\n",
    "    pass\n",
    "\n",
    "# The function calculates primers\n",
    "def primer(sequence, length=20, forward=True):\n",
    "    # Checks if the sequence is shorter than the specified length\n",
    "    if len(sequence) < length:\n",
    "        raise BadSequenceException(\"Sequence shorter than specified length\")\n",
    "\n",
    "    if forward:\n",
    "        # Returns the forward primer\n",
    "        return sequence[:length]\n",
    "    else:\n",
    "        complement_dict = {'A': 'T', 'T': 'A', 'C': 'G', 'G': 'C'}\n",
    "        # Calculates the reverse primer using the complement dictionary\n",
    "        reverse_primer = ''.join(complement_dict[char] for char in reversed(sequence[-length:]))\n",
    "        return reverse_primer\n"
   ]
  },
  {
   "cell_type": "code",
   "execution_count": 44,
   "metadata": {
    "tags": []
   },
   "outputs": [
    {
     "name": "stdout",
     "output_type": "stream",
     "text": [
      "OK\n"
     ]
    }
   ],
   "source": [
    "# Test code\n",
    "_seq=primer(sequence=\"AAAAATTTTTCCCCCGGGGGAAAAA\", length= 20, forward=False)\n",
    "assert type(_seq) is type(\"\"), \"Return value is not a string: %r\" % _seq\n",
    "print(\"OK\")"
   ]
  },
  {
   "cell_type": "markdown",
   "metadata": {},
   "source": [
    "### Question 1.d: Computing the melting temperature"
   ]
  },
  {
   "cell_type": "markdown",
   "metadata": {},
   "source": [
    "Write a function called ```meltingTemp``` that takes a string representing a primer as its argument. The function should return the melting temperature of the primer in degrees Celsius according to the equation given in the Background document. If the sequence contains characters other than A, C, T, G, the function should raise a ```BadSequenceException```."
   ]
  },
  {
   "cell_type": "code",
   "execution_count": 49,
   "metadata": {
    "tags": []
   },
   "outputs": [],
   "source": [
    "# Your code here\n",
    "# The exception for bad sequences is defined\n",
    "class BadSequenceException(Exception):\n",
    "    pass\n",
    "\n",
    "# The function calculates melting temperature\n",
    "def meltingTemp(primer):\n",
    "    # Checks for invalid characters in the primer sequence\n",
    "    for char in primer:\n",
    "        if char not in \"ACTG\":\n",
    "            raise BadSequenceException(\"Invalid character in sequence\")\n",
    "\n",
    "    # Counts the number of A and T bases\n",
    "    A_T_count = primer.count('A') + primer.count('T')\n",
    "    # Counts the number of C and G bases\n",
    "    C_G_count = primer.count('C') + primer.count('G')\n",
    "\n",
    "    # Calculates the melting temperature based on the counts\n",
    "    melting_temp = (2 * A_T_count) + (4 * C_G_count)\n",
    "    return melting_temp\n",
    "\n"
   ]
  },
  {
   "cell_type": "code",
   "execution_count": 50,
   "metadata": {
    "tags": []
   },
   "outputs": [
    {
     "name": "stdout",
     "output_type": "stream",
     "text": [
      "OK\n"
     ]
    }
   ],
   "source": [
    "# Test code\n",
    "_temp=meltingTemp(\"AAAAATTTTTCCCCCGGGGG\")\n",
    "assert ((type(_temp) is type(0.0)) or\n",
    "        (type(_temp) is type(0))), \"Return value is not a number: %r\" % _temp\n",
    "print(\"OK\")"
   ]
  },
  {
   "cell_type": "markdown",
   "metadata": {},
   "source": [
    "### Question 1.e: Putting it all together\n",
    "\n",
    "Write a function called ```sequencePCRtemp``` that takes a string containing the name of a FASTA file as its argument. The function should return the average melting temperature of the two primers of the sequence as a ```float```."
   ]
  },
  {
   "cell_type": "code",
   "execution_count": 51,
   "metadata": {},
   "outputs": [],
   "source": [
    "# Your code here\n",
    "# The exception for bad sequences is defined\n",
    "class BadSequenceException(Exception):\n",
    "    pass\n",
    "\n",
    "# The function calculates the average melting temperature for PCR\n",
    "def sequencePCRtemp(file_name):\n",
    "    try:\n",
    "        # Reads the DNA sequence from the file\n",
    "        dna_sequence = readDNAsequence(file_name)\n",
    "\n",
    "        # Extracts forward and reverse primers\n",
    "        forward_primer = primer(dna_sequence)\n",
    "        reverse_primer = primer(dna_sequence, forward=False)\n",
    "\n",
    "        # Calculates melting temperatures for both primers\n",
    "        melting_temp_forward = meltingTemp(forward_primer)\n",
    "        melting_temp_reverse = meltingTemp(reverse_primer)\n",
    "\n",
    "        # Calculates and returns the average melting temperature\n",
    "        average_temp = (melting_temp_forward + melting_temp_reverse) / 2\n",
    "        return average_temp\n",
    "\n",
    "    except FileNotFoundError:\n",
    "        raise FileNotFoundError(f\"File '{file_name}' not found\")\n",
    "    except BadSequenceException as e:\n",
    "        raise e\n",
    "\n"
   ]
  },
  {
   "cell_type": "code",
   "execution_count": 53,
   "metadata": {},
   "outputs": [
    {
     "name": "stdout",
     "output_type": "stream",
     "text": [
      "OK\n"
     ]
    }
   ],
   "source": [
    "# Test code\n",
    "import os\n",
    "with open(\"test9876346.fas\", \"wt\") as _OUTF:\n",
    "    _OUTF.write(\"> test\\n\")\n",
    "    _OUTF.write(\"AAAAACCCCCTTTTTGGGGGAAAAA\\n\")\n",
    "_temp=sequencePCRtemp(\"test9876346.fas\")\n",
    "assert type(_temp) is type(0.0), \"Return value is not a float: %r\" % _temp\n",
    "os.remove(\"test9876346.fas\")\n",
    "print(\"OK\")"
   ]
  },
  {
   "cell_type": "markdown",
   "metadata": {},
   "source": [
    "# Question 2: Translation and reading frames"
   ]
  },
  {
   "cell_type": "markdown",
   "metadata": {},
   "source": [
    "### Question 2.a: Reading frames\n",
    "Write a function ```translate``` that takes a string containing a DNA sequence as its input and outputs a Python dictionary containing the translation of the sequence in all possible reading frames. The keys of the dictionary should be ```f1```, ```f2```, ```f3``` for the three forward frames and ```r1```, ```r2``` and ```r3``` for the reverse reading frames; the value of each key should be the translation of the sequence in the corresponding frame.\n",
    "For simplicity and ease of debugging, **do not complement the sequence** when computing the reverse reading frames; just reverse it. Use an asterisk (```*```) to represent stop codons. Always translate the entire sequence."
   ]
  },
  {
   "cell_type": "code",
   "execution_count": 56,
   "metadata": {},
   "outputs": [],
   "source": [
    "# Your code here\n",
    "# Defines a dictionary mapping DNA codons to amino acids\n",
    "def translate(sequence):\n",
    "    codon_table = {\n",
    "        \"ATA\": \"I\", \"ATC\": \"I\", \"ATT\": \"I\", \"ATG\": \"M\",\n",
    "        \"ACA\": \"T\", \"ACC\": \"T\", \"ACG\": \"T\", \"ACT\": \"T\",\n",
    "        \"AAC\": \"N\", \"AAT\": \"N\", \"AAA\": \"K\", \"AAG\": \"K\",\n",
    "        \"AGC\": \"S\", \"AGT\": \"S\", \"AGA\": \"R\", \"AGG\": \"R\",\n",
    "        \"CTA\": \"L\", \"CTC\": \"L\", \"CTG\": \"L\", \"CTT\": \"L\",\n",
    "        \"CCA\": \"P\", \"CCC\": \"P\", \"CCG\": \"P\", \"CCT\": \"P\",\n",
    "        \"CAC\": \"H\", \"CAT\": \"H\", \"CAA\": \"Q\", \"CAG\": \"Q\",\n",
    "        \"CGA\": \"R\", \"CGC\": \"R\", \"CGG\": \"R\", \"CGT\": \"R\",\n",
    "        \"GTA\": \"V\", \"GTC\": \"V\", \"GTG\": \"V\", \"GTT\": \"V\",\n",
    "        \"GCA\": \"A\", \"GCC\": \"A\", \"GCG\": \"A\", \"GCT\": \"A\",\n",
    "        \"GAC\": \"D\", \"GAT\": \"D\", \"GAA\": \"E\", \"GAG\": \"E\",\n",
    "        \"GGA\": \"G\", \"GGC\": \"G\", \"GGG\": \"G\", \"GGT\": \"G\",\n",
    "        \"TCA\": \"S\", \"TCC\": \"S\", \"TCG\": \"S\", \"TCT\": \"S\",\n",
    "        \"TTC\": \"F\", \"TTT\": \"F\", \"TTA\": \"L\", \"TTG\": \"L\",\n",
    "        \"TAC\": \"Y\", \"TAT\": \"Y\", \"TAA\": \"*\", \"TAG\": \"*\",\n",
    "        \"TGC\": \"C\", \"TGT\": \"C\", \"TGA\": \"*\", \"TGG\": \"W\",\n",
    "    }\n",
    "    \n",
    "  # Initializes an empty dictionary to store translation results\n",
    "    result = {}\n",
    "\n",
    "    \n",
    " # Loops through three forward reading frames (frame 0, frame 1, frame 2)\n",
    "    for frame in range(3):\n",
    "        translation = \"\"\n",
    "        for i in range(frame, len(sequence), 3):\n",
    "            codon = sequence[i:i+3]\n",
    "            translation += codon_table.get(codon, '*')\n",
    "            \n",
    "  # Stores the translation in the result dictionary with keys 'f1', 'f2', 'f3'\n",
    "        result[f'f{frame+1}'] = translation\n",
    "        \n",
    "    # Reverses the input sequence\n",
    "    reversed_sequence = sequence[::-1]\n",
    "    \n",
    "    # Loops through three reverse reading frames (frame 0, frame 1, frame 2)\n",
    "    for frame in range(3):\n",
    "        translation = \"\"\n",
    "        for i in range(frame, len(reversed_sequence), 3):\n",
    "            codon = reversed_sequence[i:i+3]\n",
    "            translation += codon_table.get(codon, '*')\n",
    "            \n",
    "         # Stores the translation in the result dictionary with keys 'r1', 'r2', 'r3'\n",
    "        result[f'r{frame+1}'] = translation\n",
    "        \n",
    "    # Returns the result dictionary containing translations for all six reading frames\n",
    "    return result\n"
   ]
  },
  {
   "cell_type": "code",
   "execution_count": 57,
   "metadata": {},
   "outputs": [
    {
     "name": "stdout",
     "output_type": "stream",
     "text": [
      "OK\n"
     ]
    }
   ],
   "source": [
    "# Test code\n",
    "_seqdic=translate(\"ACTGACTGACTGACTGACTGACTG\")\n",
    "assert type(_seqdic)==type(dict()), \"Return value is not a dictionary: %r\" % _seqdic\n",
    "assert set(_seqdic.keys())==set(['f1', 'f2', 'f3', 'r1', 'r2', 'r3']), \\\n",
    "    \"Output dictionary has incorrect/missing keys: %r\"  % _seqdic.keys()\n",
    "assert type(_seqdic['f1'])==type(\"\"), \\\n",
    "    \"Output dictionary values should be strings, not %r\" % type(_seqdic['f1'])\n",
    "print(\"OK\")"
   ]
  },
  {
   "cell_type": "markdown",
   "metadata": {},
   "source": [
    "### Question 2.b: Locating an ORF\n",
    "\n",
    "Write a function called ```openReadingFrame``` that takes a string containing an aminoacid sequence as its argument and returns a string containing the aminoacids between the first Methionine (included) and the first STOP codon that follows it (excluded). Assume the stop codon is represented by an asterisk (```*```) as would be returned by ```translate``` above. If either the Methionine or the STOP codon are missing, your function should return an empty string."
   ]
  },
  {
   "cell_type": "code",
   "execution_count": 58,
   "metadata": {},
   "outputs": [],
   "source": [
    "# Your code here\n",
    "\n",
    "# Defines a function to find an open reading frame (ORF) in an amino acid sequence\n",
    "def openReadingFrame(aminoacid_sequence):\n",
    "    \n",
    "    # Finds the index of the first 'M' (start codon) in the sequence\n",
    "    start = aminoacid_sequence.find('M')\n",
    "    \n",
    "    # Finds the index of the first '*' (stop codon) after the start codon\n",
    "    stop = aminoacid_sequence.find('*', start)\n",
    "    \n",
    "    # Returns the substring between the start and stop codons if both are found, otherwise returns an empty string\n",
    "    return aminoacid_sequence[start:stop] if start != -1 and stop != -1 else ''\n",
    "\n"
   ]
  },
  {
   "cell_type": "code",
   "execution_count": 59,
   "metadata": {},
   "outputs": [
    {
     "name": "stdout",
     "output_type": "stream",
     "text": [
      "OK\n"
     ]
    }
   ],
   "source": [
    "# Test code\n",
    "_seq=openReadingFrame(\"AMCAPP*L\")\n",
    "assert type(_seq) is type(\"\"), \"Return value is not a string: %r\" % _seq\n",
    "print(\"OK\")"
   ]
  },
  {
   "cell_type": "markdown",
   "metadata": {},
   "source": [
    "### Question 2.c: Translating a sequence\n",
    "\n",
    "Write a function called ```candidateProtein``` that takes a string containing a DNA sequence as its input and outputs the string of aminoacids corresponding to the longest ORF, as extracted by ```openReadingFrame``` above."
   ]
  },
  {
   "cell_type": "code",
   "execution_count": 62,
   "metadata": {},
   "outputs": [],
   "source": [
    "# Your code here\n",
    "\n",
    "# Defines a function to find a candidate protein from a DNA sequence\n",
    "def candidateProtein(dna_sequence):\n",
    "    \n",
    "    # Translates the DNA sequence into amino acid sequences in all possible frames\n",
    "    frames = translate(dna_sequence)\n",
    "    \n",
    "    # Initializes a variable to store the longest open reading frame (ORF)\n",
    "    longest_orf = ''\n",
    "    \n",
    "    # Iterates through the translated frames and finds the longest ORF\n",
    "    for frame in frames.values():\n",
    "        \n",
    "        orf = openReadingFrame(frame)\n",
    "        \n",
    "        # Compares the length of the current ORF with the longest found so far\n",
    "        if len(orf) > len(longest_orf):\n",
    "            longest_orf = orf\n",
    "            \n",
    "    # Returns the longest ORF found\n",
    "    return longest_orf\n",
    "\n"
   ]
  },
  {
   "cell_type": "code",
   "execution_count": 63,
   "metadata": {},
   "outputs": [
    {
     "name": "stdout",
     "output_type": "stream",
     "text": [
      "OK\n"
     ]
    }
   ],
   "source": [
    "# Test code\n",
    "_seq=candidateProtein(\"ATGACTGCTGGGTAG\")\n",
    "assert type(_seq) is type(\"\"), \"Return value is not a string: %r\" % _seq\n",
    "print(\"OK\")"
   ]
  },
  {
   "cell_type": "markdown",
   "metadata": {},
   "source": [
    "### Question 2.d: Writing a FASTA file\n",
    "\n",
    "Write a function called ```writeFASTA``` that takes three string arguments called, in the order, ```sequence```, ```description``` and ```filename```. Argument ```sequence``` should contain an aminoacid sequence. Argument ```description``` should contain a description (eg name of protein, organism, etc). Argument ```filename``` should contain a file name. Your code should create the file with the name requested, write to  it the description as a FASTA header (i.e. starting with the character ```>```) and write the sequence to the file. Long sequences should be formatted over several lines. The function should not return any value."
   ]
  },
  {
   "cell_type": "code",
   "execution_count": 66,
   "metadata": {},
   "outputs": [],
   "source": [
    "# Your code here\n",
    "\n",
    "# Defines a function to write a sequence in FASTA format to a file\n",
    "def writeFASTA(sequence, description, filename):\n",
    "    \n",
    "    # Opens the specified file for writing\n",
    "    with open(filename, 'w') as file:\n",
    "        \n",
    "        # Writes the description line with '>' prefix\n",
    "        file.write(f\">{description}\\n\")\n",
    "        \n",
    "        # Iterates through the sequence in chunks of 80 characters and writes them to the file\n",
    "        for i in range(0, len(sequence), 80):\n",
    "            file.write(sequence[i:i+80] + '\\n')\n"
   ]
  },
  {
   "cell_type": "code",
   "execution_count": 67,
   "metadata": {},
   "outputs": [
    {
     "name": "stdout",
     "output_type": "stream",
     "text": [
      "OK\n"
     ]
    }
   ],
   "source": [
    "# Test code\n",
    "import os\n",
    "import os.path\n",
    "_rv=writeFASTA(sequence=\"TESTTESTTESTTESTTEST\",\n",
    "              description=\"test sequence\",\n",
    "              filename=\"test9876347.fas\")\n",
    "assert type(_rv) is type(None), \"Function should not return anything; it returns %r\" % _rv\n",
    "_fe=os.path.isfile(\"test9876347.fas\")\n",
    "assert _fe, \"Cannot find output file - has it been created?\"\n",
    "os.remove(\"test9876347.fas\")\n",
    "print(\"OK\")"
   ]
  },
  {
   "cell_type": "markdown",
   "metadata": {},
   "source": [
    "### Question 2.e: Putting it all together\n",
    "\n",
    "\n",
    "Write a function called ```maximalORF``` that takes as its argument string ```inputfile``` containing the name of an input file, string ```outputfile``` with the name of an output file and string  ```proteinname``` with a description of a candidate protein. The function should read a DNA sequence from the input file and write the candidate protein corresponding to the longest ORF to the output file, in FASTA format. The string supplied in ```proteinname``` should provide the header of the FASTA file. The function should not return any value."
   ]
  },
  {
   "cell_type": "code",
   "execution_count": 70,
   "metadata": {},
   "outputs": [],
   "source": [
    "# Your code here\n",
    "\n",
    "# Reads a DNA sequence from an input file, identifies the longest open reading frame (ORF),\n",
    "# and saves the corresponding protein sequence to an output file with a specified protein name.\n",
    "def processMaximalORF(inputfile, outputfile, proteinname):\n",
    "    \n",
    "    # Opens and reads the input file, removing newline characters.\n",
    "    with open(inputfile, 'r') as file:\n",
    "        sequence = file.read().replace('\\n', '')\n",
    "\n",
    "    # Determines the longest open reading frame (ORF) within the DNA sequence.\n",
    "    longest_orf = findLongestORF(sequence)\n",
    "\n",
    "    # Writes the identified protein sequence (ORF) to the output file, using the provided protein name.\n",
    "    writeProteinToFasta(longest_orf, proteinname, outputfile)\n"
   ]
  },
  {
   "cell_type": "code",
   "execution_count": 71,
   "metadata": {},
   "outputs": [
    {
     "name": "stdout",
     "output_type": "stream",
     "text": [
      "OK\n"
     ]
    }
   ],
   "source": [
    "# Test code\n",
    "import os\n",
    "import os.path\n",
    "with open(\"test9876348.fas\", \"wt\") as _OUTF:\n",
    "    _OUTF.write(\"> test\\n\")\n",
    "    _OUTF.write(\"ATGACTGCTGGGTAG\\n\")\n",
    "_rv=maximalORF(inputfile=\"test9876348.fas\", outputfile=\"test9876349.fas\",\n",
    "               proteinname=\"test protein\")\n",
    "assert type(_rv) is type(None), \"Function should not return anything; it returns %r\" % _rv\n",
    "_fe=os.path.isfile(\"test9876349.fas\")\n",
    "assert _fe, \"Cannot find output file - has it been created?\"\n",
    "os.remove(\"test9876348.fas\")\n",
    "os.remove(\"test9876349.fas\")\n",
    "print(\"OK\")"
   ]
  },
  {
   "cell_type": "markdown",
   "metadata": {},
   "source": [
    "# Question 3: Classification of aminoacids"
   ]
  },
  {
   "cell_type": "markdown",
   "metadata": {},
   "source": [
    "### Question 3.a: Reading an aminoacid sequence\n",
    "\n",
    "Write a function called ```readAAsequence``` that takes as its argument the name of a file.  When passed the name of a FASTA file containing an aminoacid sequence, the function should read the file, discard the header and return the sequence as a string."
   ]
  },
  {
   "cell_type": "code",
   "execution_count": 75,
   "metadata": {},
   "outputs": [],
   "source": [
    "# Your code here\n",
    "\n",
    "# To define the exception\n",
    "class BadSequenceException(Exception):\n",
    "    pass\n",
    "\n",
    "# Reads an amino acid sequence from a file and performs error checking.\n",
    "def readAAsequence(file_name):\n",
    "    try:\n",
    "        # Opens the specified file for reading\n",
    "        with open(file_name, 'r') as f:\n",
    "            lines = f.readlines()\n",
    "\n",
    "        # Discards the header line, if present\n",
    "        sequence_lines = lines[1:]\n",
    "\n",
    "        # Joins the lines and removes newline characters to obtain the sequence\n",
    "        sequence = ''.join([line.strip() for line in sequence_lines])\n",
    "\n",
    "        # Checks if the sequence contains valid amino acid characters\n",
    "        if any(char not in 'ACDEFGHIKLMNPQRSTVWY' for char in sequence):\n",
    "            raise BadSequenceException(\"Invalid amino acid character found\")\n",
    "\n",
    "        # Returns the validated amino acid sequence\n",
    "        return sequence\n",
    "    except FileNotFoundError:\n",
    "        raise FileNotFoundError(f\"File '{file_name}' not found\")\n",
    "    except BadSequenceException as e:\n",
    "        raise e\n",
    "\n"
   ]
  },
  {
   "cell_type": "code",
   "execution_count": 76,
   "metadata": {},
   "outputs": [
    {
     "name": "stdout",
     "output_type": "stream",
     "text": [
      "OK\n"
     ]
    }
   ],
   "source": [
    "# Test code\n",
    "import os\n",
    "with open(\"test9876350.fas\", \"wt\") as _OUTF:\n",
    "    _OUTF.write(\"> test\\n\")\n",
    "    _OUTF.write(\"TESTTESTTESTTESTTEST\\n\")\n",
    "_seq=readAAsequence(\"test9876350.fas\")\n",
    "os.remove(\"test9876350.fas\")\n",
    "assert type(_seq) is type(\"\"), \"Return value is not a string: %r\" % _seq\n",
    "print (\"OK\")"
   ]
  },
  {
   "cell_type": "markdown",
   "metadata": {},
   "source": [
    "### Question 3.b: Aminoacid usage statistics\n",
    "\n",
    "Write a function called ```AAtypes``` that takes as its argument a string containing a sequence of aminoacids. The function should compute, for each protein, the fraction of aminoacids that are polar, small and hydrophobic and return that as a list. For instance, if the chain of a protein contains 35% polar residues, 15% small and 50% hydrophobic residues, the function should return ```[0.35, 0.15, 0.5]``` (the order is important). Refer to the Venn diagram in the Assessment Background file for the classification of aminoacids (other Venn diagrams may differ).  Note that some aminoacids belong to more than one category, so that the sum of these three numbers can be larger than 1."
   ]
  },
  {
   "cell_type": "code",
   "execution_count": 81,
   "metadata": {},
   "outputs": [],
   "source": [
    "# Your code here\n",
    "\n",
    "# Calculates the proportions of polar, small, and hydrophobic amino acids in an amino acid sequence.\n",
    "def AAtypes(aa_sequence):\n",
    "    \n",
    "    # Define groups of amino acids based on their properties\n",
    "    polar = 'RNDQEKSTHY'\n",
    "    small = 'ASCDGNPQTV'\n",
    "    hydrophobic = 'AGILMFVWY'\n",
    "\n",
    "    # Calculate the total length of the amino acid sequence\n",
    "    total_length = len(aa_sequence)\n",
    "\n",
    "    # Initialize counters for each amino acid group\n",
    "    polar_count, small_count, hydrophobic_count = 0, 0, 0\n",
    "\n",
    "    # Iterate through each amino acid in the sequence\n",
    "    for aa in aa_sequence:\n",
    "        # Check if the amino acid belongs to the polar group\n",
    "        if aa in polar:\n",
    "            polar_count += 1\n",
    "        # Check if the amino acid belongs to the small group\n",
    "        if aa in small:\n",
    "            small_count += 1\n",
    "        # Check if the amino acid belongs to the hydrophobic group\n",
    "        if aa in hydrophobic:\n",
    "            hydrophobic_count += 1\n",
    "\n",
    "    # Calculate the proportions of each amino acid group in the sequence\n",
    "    polar_fraction = polar_count / total_length\n",
    "    small_fraction = small_count / total_length\n",
    "    hydrophobic_fraction = hydrophobic_count / total_length\n",
    "\n",
    "    # Return the proportions as a list [polar_fraction, small_fraction, hydrophobic_fraction]\n",
    "    return [polar_fraction, small_fraction, hydrophobic_fraction]\n",
    "\n"
   ]
  },
  {
   "cell_type": "code",
   "execution_count": 82,
   "metadata": {},
   "outputs": [
    {
     "name": "stdout",
     "output_type": "stream",
     "text": [
      "OK\n"
     ]
    }
   ],
   "source": [
    "# Test code\n",
    "_aatypes=AAtypes(\"TESTTESTTESTTESTTEST\")\n",
    "assert type(_aatypes) is type([]), \"Return value is not a list: %r\" % _aatypes\n",
    "assert len(_aatypes)==3, \"Returned list should contain 3 values\"\n",
    "print(\"OK\")"
   ]
  },
  {
   "cell_type": "markdown",
   "metadata": {},
   "source": [
    "### Question 3.c: Processing multiple sequences\n",
    "Write a function called ```AAtypetable``` that takes a list of strings called ```filelist``` and a separate string called ```outputfile```. Each element of ```filelist``` represents the name of a FASTA file containing an aminoacid sequence. For each filename, the function should load the sequence, compute the fraction of aminoacids that are polar, small and/or hydrophobic, and finally output this to the text file specified by ```outputfile``` in TSV (tab-separated values) tabular format. The table should contain, on each line, the name of the input file and then the percentages of polar, small and hydrophobic residues (in that order). Include a comment at the beginning of the file that starts with a ```#``` and specifies the content of each column, as follows (numbers and file names shown here are random):\n",
    "```\n",
    "# Filename     Polar     Small     Hydro\n",
    "Pxxx.fasta     0.52      0.22      0.33\n",
    "Qx3Z.fas       0.47      0.35      0.38\n",
    "...\n",
    "```\n",
    "\n",
    "Include at least two decimal places in your output; do not add any quotes or other spurious characters. Do not worry if the columns do not all look aligned; as long as consecutive values on the same line are separated by a tab, that's fine. If some of the files in ```filelist``` do not exist, contain invalid data or otherwise cause an error, your function should ignore those files and continue. However, the names of those files should be returned by your function in a list. If all files are processed without errors your function should return an empty list.\n"
   ]
  },
  {
   "cell_type": "code",
   "execution_count": 85,
   "metadata": {},
   "outputs": [],
   "source": [
    "# Your code here\n",
    "\n",
    "# Analyzes a list of amino acid sequence files and calculates the proportions of polar, small, and hydrophobic amino acids in each sequence.\n",
    "def AAtypetable(filelist, outputfile):\n",
    "    # Initialize a list to store filenames of problematic files\n",
    "    problematic_files = []\n",
    "    \n",
    "    # Open the output file for writing and write a header line\n",
    "    with open(outputfile, 'w') as outfile:\n",
    "        outfile.write(\"# Filename\\tPolar\\tSmall\\tHydro\\n\")\n",
    "        \n",
    "        # Iterate through each file in the filelist\n",
    "        for file in filelist:\n",
    "            try:\n",
    "                # Read the amino acid sequence from the current file\n",
    "                aa_sequence = readAAsequence(file)\n",
    "                \n",
    "                # Calculate the proportions of amino acid groups using AAtypes function\n",
    "                fractions = AAtypes(aa_sequence)\n",
    "                \n",
    "                # Write the filename and calculated proportions to the output file\n",
    "                outfile.write(f\"{file}\\t{fractions[0]:.2f}\\t{fractions[1]:.2f}\\t{fractions[2]:.2f}\\n\")\n",
    "            except Exception as e:\n",
    "                # If an exception occurs (e.g., file not found or invalid sequence), add the filename to the problematic_files list\n",
    "                problematic_files.append(file)\n",
    "    \n",
    "    # Return the list of problematic files\n",
    "    return problematic_files\n",
    "\n"
   ]
  },
  {
   "cell_type": "code",
   "execution_count": 86,
   "metadata": {},
   "outputs": [
    {
     "name": "stdout",
     "output_type": "stream",
     "text": [
      "OK\n"
     ]
    }
   ],
   "source": [
    "# Test code\n",
    "import os\n",
    "import os.path\n",
    "for fname in [\"_Ptest123.fas\", \"_Ptest456.fas\"]:\n",
    "    with open(fname, \"wt\") as _OUTF:\n",
    "        _OUTF.write(\"> test\\n\")\n",
    "        _OUTF.write(\"TESTTESTTESTTESTTEST\\n\")\n",
    "_rv=AAtypetable(filelist=['_Ptest123.fas','_Ptest456.fas'], outputfile=\"_table_test789.txt\")\n",
    "_fe=os.path.isfile(\"_table_test789.txt\")\n",
    "assert _fe, \"Cannot find output file - has it been created?\"\n",
    "os.remove(\"_table_test789.txt\")\n",
    "os.remove(\"_Ptest123.fas\")\n",
    "os.remove(\"_Ptest456.fas\")\n",
    "assert type(_rv) is type([]), \"Function should return a list; it returns %r\" % _rv\n",
    "print(\"OK\")"
   ]
  },
  {
   "cell_type": "markdown",
   "metadata": {},
   "source": [
    "# Question 4: Clustering proteins based on aminoacid usage"
   ]
  },
  {
   "cell_type": "markdown",
   "metadata": {},
   "source": [
    "### Question 4.a: Computing the Euclidean distance"
   ]
  },
  {
   "cell_type": "markdown",
   "metadata": {},
   "source": [
    "Write a function called ```distance``` that takes two lists of ```float``` of equal length as its arguments. The function should return the Euclidean distance between the two lists, considered as vectors in a space of dimensionality equal to the length of the lists. That is to say, it should compute the element by element difference between the two lists, square that, sum all the squares and take a square root of the final sum (see the equation [here](https://en.wikipedia.org/wiki/Euclidean_distance#Higher_dimensions)). Your function should raise a ```DimensionalityException``` if the two lists passed are not of the same length, or if they are both empty; otherwise it should return a ```float```."
   ]
  },
  {
   "cell_type": "code",
   "execution_count": null,
   "metadata": {},
   "outputs": [],
   "source": [
    "# Run this cell to define the exception\n",
    "class DimensionalityException(Exception):\n",
    "    pass"
   ]
  },
  {
   "cell_type": "code",
   "execution_count": 89,
   "metadata": {},
   "outputs": [],
   "source": [
    "# Your code here\n",
    "\n",
    "# Calculates the Euclidean distance between two lists of numerical values.\n",
    "# Raises a DimensionalityException if the lists have different lengths or are both empty.\n",
    "def distance(list1, list2):\n",
    "    \n",
    "    # Check if the lists have different lengths or are both empty\n",
    "    if len(list1) != len(list2) or (len(list1) == 0 and len(list2) == 0):\n",
    "        raise DimensionalityException(\"Lists must have the same length and should not be empty\")\n",
    "    \n",
    "    # Initialize a variable to store the sum of squares of differences\n",
    "    sum_of_squares = 0\n",
    "    \n",
    "    # Iterate over corresponding elements in the two lists and calculate the sum of squares\n",
    "    for x, y in zip(list1, list2):\n",
    "        sum_of_squares += (x - y) ** 2\n",
    "        \n",
    "    # Calculate the Euclidean distance by taking the square root of the sum of squares\n",
    "    return math.sqrt(sum_of_squares)\n",
    "\n"
   ]
  },
  {
   "cell_type": "code",
   "execution_count": 90,
   "metadata": {},
   "outputs": [
    {
     "name": "stdout",
     "output_type": "stream",
     "text": [
      "OK\n"
     ]
    }
   ],
   "source": [
    "# Test code\n",
    "_dist=distance([1.0, 2.0], [1.5, -1.0])\n",
    "assert type(_dist) is type(0.0), \"Return value is not a float: %r\" % _dist\n",
    "print(\"OK\")"
   ]
  },
  {
   "cell_type": "markdown",
   "metadata": {},
   "source": [
    "### Question 4.b: Reading data in tabular format\n",
    "\n",
    "Write a function called ```readTable``` that takes a string called ```filename``` as its argument. The function should read from the file specified in the argument a TSV table formatted as described at the end of Question 3 (you do not necessarily have to answer Question 3 in order to do this; you can create one such table containing arbitrary values using an editor). The function should return a dictionary with the filenames as its keys; the value associated to each key should be a list of floats, containing in order the percentages of polar, small and hydrophobic AAs, as listed in the table. So for instance, if the argument file contains the table used as an example in Question 3, ```readTable``` should return a dictionary containing at least the following items: \n",
    "```\n",
    "{ \"Pxxx.fasta\": [0.52, 0.22, 0.33],  \"Qx3Z.fas\": [0.47, 0.35, 0.38],\n",
    "... }\n",
    "```\n"
   ]
  },
  {
   "cell_type": "code",
   "execution_count": 96,
   "metadata": {},
   "outputs": [],
   "source": [
    "# Your code here\n",
    "\n",
    "# Reads a tab-delimited table from the specified file and stores it in a dictionary.\n",
    "\n",
    "def readTable(filename):\n",
    "    result_dict = {}\n",
    "    \n",
    "    with open(filename, 'r') as infile:\n",
    "        infile.readline()  # Skip the header line\n",
    "        \n",
    "        for line in infile:\n",
    "            columns = line.strip().split(\"\\t\")\n",
    "            \n",
    "            file_name = columns[0]  # Extracts the file name from the first column\n",
    "            percentages = [float(x) for x in columns[1:]]  # Converts remaining columns to floats\n",
    "            \n",
    "            result_dict[file_name] = percentages  # Adds file name and percentages to the dictionary\n",
    "            \n",
    "    return result_dict  # Returns the populated dictionary\n",
    "\n",
    "\n"
   ]
  },
  {
   "cell_type": "code",
   "execution_count": 95,
   "metadata": {},
   "outputs": [
    {
     "name": "stdout",
     "output_type": "stream",
     "text": [
      "OK\n"
     ]
    }
   ],
   "source": [
    "# Test code\n",
    "import os\n",
    "with open(\"_testTable123.tsv\", \"wt\") as OUTF:\n",
    "    OUTF.write(\"# Filename\\tPolar\\tSmall\\tHydro\\n\")\n",
    "    OUTF.write(\"Pxxx.fas\\t0.52\\t0.22\\t0.33\\n\")\n",
    "    OUTF.write(\"Pyyy.fas\\t0.47\\t0.35\\t0.38\\n\")\n",
    "_tab=readTable(filename=\"_testTable123.tsv\")\n",
    "assert type(_tab) is type({}), \"Return value is not a dict: %r\" % _tab\n",
    "assert (\"Pxxx.fas\" in _tab) and (\"Pyyy.fas\" in _tab), \"Return dict missing keys\"\n",
    "os.remove(\"_testTable123.tsv\")\n",
    "print(\"OK\")"
   ]
  },
  {
   "cell_type": "markdown",
   "metadata": {},
   "source": [
    "### Question 4.c: Computing a distance matrix\n",
    "\n",
    "Write a function called ```distanceMatrix``` that takes as its argument two strings called ```inputfile``` and ```outputfile```, used to pass the names of the input and output file. The function should read from the input file a TSV table created as specified at the end of Question 3 (again, you do not necessarily have to answer Question 3 in order to do this; you can create a table with made-up data using an editor). Suppose data for N proteins are read. Your function should then create an output TSV file containing a matrix of size NxN (plus one row and one column for labels). The rows and columns of the matrix should correspond to individual protein file names, so that each matrix entry corresponds to a pair of proteins, say Pxxx and Pyyy. Such entry should contain the distance between the ```[polar, small, hydro]``` lists (considered as 3 dimensional vectors) corresponding to Pxxx and Pyyy. If done correctly, your matrix should be symmetric and have zeroes on the diagonal. Format the matrix with row and column labels as in the following 3-protein example (that contains random numbers and filenames):\n",
    "```\n",
    "# Filename      Pxxx.fas  Pyyy.fas  Pzzz.fas\n",
    "Pxxx.fas        0.00      2.34      1.51\n",
    "Pyyy.fas        2.34      0.00      1.82 \n",
    "Pzzz.fas        1.51      1.82      0.00\n",
    "\n",
    "```\n",
    "The exact alignment is not important, as long as the data are separated by tabs and the first line starts with a hash (```#```). Likewise, the order in which the proteins are listed is not important, provided the same order is used along the rows and along the columns. Do not add any quotes or other spurious characters. Your function should not return any value."
   ]
  },
  {
   "cell_type": "code",
   "execution_count": 100,
   "metadata": {},
   "outputs": [],
   "source": [
    "# Your code here\n",
    "\n",
    "# Generates a distance matrix for proteins based on the input data.\n",
    "\n",
    "def distanceMatrix(inputfile, outputfile):\n",
    "    # Read protein data from the input file\n",
    "    protein_data = readTable(inputfile)\n",
    "    \n",
    "    # Open the output file for writing\n",
    "    with open(outputfile, 'w') as outfile:\n",
    "        # Write the header line\n",
    "        outfile.write(\"# Filename\\t\" + \"\\t\".join(protein_data.keys()) + \"\\n\")\n",
    "        \n",
    "        # Calculate distances and write them to the output file\n",
    "        for protein1 in protein_data.keys():\n",
    "            distances = []\n",
    "            for protein2 in protein_data.keys():\n",
    "                dist = distance(protein_data[protein1], protein_data[protein2])\n",
    "                distances.append(f\"{dist:.2f}\")\n",
    "                \n",
    "            outfile.write(f\"{protein1}\\t\" + \"\\t\".join(distances) + \"\\n\")\n",
    "\n"
   ]
  },
  {
   "cell_type": "code",
   "execution_count": 101,
   "metadata": {},
   "outputs": [
    {
     "name": "stdout",
     "output_type": "stream",
     "text": [
      "OK\n"
     ]
    }
   ],
   "source": [
    "# Test code\n",
    "import os\n",
    "import os.path\n",
    "with open(\"_testTable123.tsv\", \"wt\") as OUTF:\n",
    "    OUTF.write(\"# Filename\\tPolar\\tSmall\\tHydro\\n\")\n",
    "    OUTF.write(\"Pxxx.fas\\t0.52\\t0.22\\t0.33\\n\")\n",
    "    OUTF.write(\"Pyyy.fas\\t0.47\\t0.35\\t0.38\\n\")\n",
    "_rv=distanceMatrix(inputfile=\"_testTable123.tsv\", outputfile=\"_testTable123out.tsv\")\n",
    "_fe=os.path.isfile(\"_testTable123out.tsv\")\n",
    "assert _fe, \"Cannot find output file - has it been created?\"\n",
    "with open(\"_testTable123out.tsv\", \"rt\") as INF:\n",
    "    _fl=INF.readline()\n",
    "assert _fl[0]=='#', \"First line of output file does not start with a #\"\n",
    "os.remove(\"_testTable123.tsv\")\n",
    "os.remove(\"_testTable123out.tsv\")\n",
    "assert type(_rv) is type(None),\"Function should not return any value; it returns %r\" % _rv\n",
    "print(\"OK\")"
   ]
  },
  {
   "cell_type": "markdown",
   "metadata": {},
   "source": [
    "### An application of this type of analysis"
   ]
  },
  {
   "cell_type": "markdown",
   "metadata": {},
   "source": [
    "Now that you have this code running, try downloading a few FASTA sequences for the [antifreeze proteins](https://pdb101.rcsb.org/motm/120) of cold water fish. Then download the sequences of other families of related proteins (eg Hemoglobin, Insulin and P53) from other species. Process these sequences according to Questions 3 and 4. Have a look at the resulting distance matrix - is any of these groups of proteins characterised by a distinctive pattern of usage of aminoacids? NOTE: no marks are assigned for this section."
   ]
  },
  {
   "cell_type": "markdown",
   "metadata": {},
   "source": [
    "## Examiners\n",
    "\n",
    "Dr Fabrizio Smeraldi *(f.smeraldi@qmul.ac.uk)*; Prof Conrad Bessant *(c.bessant@qmul.ac.uk)*"
   ]
  },
  {
   "cell_type": "code",
   "execution_count": null,
   "metadata": {},
   "outputs": [],
   "source": []
  }
 ],
 "metadata": {
  "kernelspec": {
   "display_name": "Python 3 (ipykernel)",
   "language": "python",
   "name": "python3"
  },
  "language_info": {
   "codemirror_mode": {
    "name": "ipython",
    "version": 3
   },
   "file_extension": ".py",
   "mimetype": "text/x-python",
   "name": "python",
   "nbconvert_exporter": "python",
   "pygments_lexer": "ipython3",
   "version": "3.10.13"
  }
 },
 "nbformat": 4,
 "nbformat_minor": 4
}
